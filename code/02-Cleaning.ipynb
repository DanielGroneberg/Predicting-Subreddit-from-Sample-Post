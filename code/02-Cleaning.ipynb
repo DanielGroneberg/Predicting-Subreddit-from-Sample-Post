{
 "cells": [
  {
   "cell_type": "code",
   "execution_count": 13,
   "id": "7486f628",
   "metadata": {},
   "outputs": [],
   "source": [
    "import numpy as np\n",
    "import pandas as pd\n",
    "import re"
   ]
  },
  {
   "cell_type": "code",
   "execution_count": 14,
   "id": "578bdf46",
   "metadata": {},
   "outputs": [],
   "source": [
    "df = pd.read_csv(r'../datasets/reddit_dataframe.csv')"
   ]
  },
  {
   "cell_type": "markdown",
   "id": "e85dbc92",
   "metadata": {},
   "source": [
    "Removing nulls which somehow get into the dataframe:"
   ]
  },
  {
   "cell_type": "code",
   "execution_count": 15,
   "id": "5e67a746",
   "metadata": {},
   "outputs": [
    {
     "data": {
      "text/plain": [
       "subreddit    0\n",
       "selftext     1\n",
       "dtype: int64"
      ]
     },
     "execution_count": 15,
     "metadata": {},
     "output_type": "execute_result"
    }
   ],
   "source": [
    "df[['subreddit','selftext']].isna().sum()"
   ]
  },
  {
   "cell_type": "code",
   "execution_count": 16,
   "id": "e72ed584",
   "metadata": {},
   "outputs": [],
   "source": [
    "null_index = list(df[df[['selftext', 'subreddit']].isnull().any(axis = 1)].index)\n",
    "df.drop(index = null_index, inplace = True)\n",
    "df.index = range(len(df))"
   ]
  },
  {
   "cell_type": "code",
   "execution_count": 17,
   "id": "162bf548",
   "metadata": {},
   "outputs": [
    {
     "data": {
      "text/plain": [
       "subreddit    0\n",
       "selftext     0\n",
       "dtype: int64"
      ]
     },
     "execution_count": 17,
     "metadata": {},
     "output_type": "execute_result"
    }
   ],
   "source": [
    "df[['subreddit','selftext']].isna().sum()"
   ]
  },
  {
   "cell_type": "code",
   "execution_count": 18,
   "id": "c04fbde1",
   "metadata": {
    "scrolled": true
   },
   "outputs": [
    {
     "data": {
      "text/plain": [
       "'I currently work a outdoor job, nothing crazy and the pay isn’t great, but with how terrible the market has been for me, I can’t seem to get back into a field I’m skilled in. Just for context, most of my work history is related to pc hardware and software diagnostics, cellular repair and performing IT for people. I also done some data entry for a business. I took a break from that field of work over six months ago and decided to try a different profession. I got into pest control, so for the next six months I worked with a pest control company that had extremely toxic management, which included verbal harassment/belittling and very poor training for the job. The pay I was given for this job was 17.00. So after dealing with this, I decided I wanted to go back into tech industry, I have years of experience in this stuff and I thought it wouldn’t be too difficult to do. A local franchise that specializes in tech repair wanted me to come in for two interviews. Had both done and was informed by the owner that I got the job and he would reach out to me the next Monday on my schedule. This owner was well aware that I would quit to work with them after a two week notice was submitted. I went to put in my two week notice with the pest control company and they decided to let me go right then and there. So I’m okay with that, I know I have a job guaranteed, or so I thought. Monday comes around and crickets… I reached to the owner and the manager and they blocked my contact and completely pulled themselves away from ever speaking to me. So I’m left with no job and nothing to fall back on whatsoever. I tried applying to other roles I’m qualified in but no one is hiring and no one is calling back…'"
      ]
     },
     "execution_count": 18,
     "metadata": {},
     "output_type": "execute_result"
    }
   ],
   "source": [
    "test = df['selftext'].loc[5032]\n",
    "test"
   ]
  },
  {
   "cell_type": "markdown",
   "id": "4108c663",
   "metadata": {},
   "source": [
    "It's very common to see posts in the dataset which have newline or tab characters. I'm going to do some basic cleaning using regex to get rid of any glaring issues. I can do further cleaning during the EDA phase."
   ]
  },
  {
   "cell_type": "markdown",
   "id": "249b9784",
   "metadata": {},
   "source": [
    "https://stackoverflow.com/questions/16355732/how-to-remove-tabs-and-newlines-with-a-regex"
   ]
  },
  {
   "cell_type": "code",
   "execution_count": 19,
   "id": "c6206e98",
   "metadata": {},
   "outputs": [
    {
     "data": {
      "text/plain": [
       "'I currently work a outdoor job, nothing crazy and the pay isn’t great, but with how terrible the market has been for me, I can’t seem to get back into a field I’m skilled in. Just for context, most of my work history is related to pc hardware and software diagnostics, cellular repair and performing IT for people. I also done some data entry for a business. I took a break from that field of work over six months ago and decided to try a different profession. I got into pest control, so for the next six months I worked with a pest control company that had extremely toxic management, which included verbal harassment/belittling and very poor training for the job. The pay I was given for this job was 17.00. So after dealing with this, I decided I wanted to go back into tech industry, I have years of experience in this stuff and I thought it wouldn’t be too difficult to do. A local franchise that specializes in tech repair wanted me to come in for two interviews. Had both done and was informed by the owner that I got the job and he would reach out to me the next Monday on my schedule. This owner was well aware that I would quit to work with them after a two week notice was submitted. I went to put in my two week notice with the pest control company and they decided to let me go right then and there. So I’m okay with that, I know I have a job guaranteed, or so I thought. Monday comes around and crickets… I reached to the owner and the manager and they blocked my contact and completely pulled themselves away from ever speaking to me. So I’m left with no job and nothing to fall back on whatsoever. I tried applying to other roles I’m qualified in but no one is hiring and no one is calling back…'"
      ]
     },
     "execution_count": 19,
     "metadata": {},
     "output_type": "execute_result"
    }
   ],
   "source": [
    "re.sub(r\"\\s+\", \" \", test)"
   ]
  },
  {
   "cell_type": "code",
   "execution_count": 20,
   "id": "2bd555cf",
   "metadata": {},
   "outputs": [],
   "source": [
    "# implementing newline character removal\n",
    "df['selftext'] = [re.sub(r\"\\s+\", \" \", s) for s in df['selftext']]"
   ]
  },
  {
   "cell_type": "code",
   "execution_count": 21,
   "id": "4bb6c8e2",
   "metadata": {},
   "outputs": [
    {
     "data": {
      "text/plain": [
       "\"Hi A place I applied to in the past recently reached out and sent me a job offer for a new position they have opening up. It feels nice to be wanted, lol, and I know I would be good at it, but I just wasn't expecting it and I've been pretty comfortable at my current job. I make $23/hr now and they offered $26. The job description isn't that different from my current job, but the place I work at is so weird and unprofessional that I've gotten used to it and the idea of going to an office that's more normal and professional doesn't sound very appealing? My current job is a family business where I can wear whatever I want and basically do whatever I want as long as I'm getting my work done. When it's slow I get to draw and work on my hobbies at my desk as long as it's not excessive. The actual workplace is technically super dysfunctional and sometimes feels unstable but my position gets by pretty unscathed. So idk. The increase in pay at the new job would basically cancel out my student loan payments when those kick back in, but....I worry I just wouldn't be as happy or comfortable? I know people take pay cuts for their mental health all the time but I've always been surrounded by people who are just money chasers so I find it hard to know if what I want to do is technically dumb or not.\""
      ]
     },
     "execution_count": 21,
     "metadata": {},
     "output_type": "execute_result"
    }
   ],
   "source": [
    "[s for s in df['selftext'] if \"A place I applied to i\" in s][0]"
   ]
  },
  {
   "cell_type": "code",
   "execution_count": 24,
   "id": "bdd62729",
   "metadata": {},
   "outputs": [
    {
     "data": {
      "text/plain": [
       "'My boyfriend worked at a national furniture chain store for a out 6 months. He quit after they continually pressured him from hourly + commission to strictly commission. He put in his two weeks notice on June 27. He worked through the July 1 and was scheduled next on July 4 but had to call off. He was then asked if he wanted to be on the next week\\'s schedule (which started the next day but wasn\\'t done yet), he said he didn\\'t care. They didn\\'t put him on the schedule. Fast forward to this week. He goes to pick up his June commissions check and they don\\'t have it. Apparently the manager who told him he was not scheduling him instead labelled him as abandoning the job or something, which gives them cause to not pay his commission. Apparently that manager quit later that same week. Other managers were \"sympathetic\" but couldn\\'t help. I say that\\'s wage theft. We contacted the state online. Does he have a chance of seeing that money? What other steps can/should we take? His sales last month were over 30k, so the check should be about $900 pretax.'"
      ]
     },
     "execution_count": 24,
     "metadata": {},
     "output_type": "execute_result"
    }
   ],
   "source": [
    "df['selftext'].iloc[94]"
   ]
  },
  {
   "cell_type": "markdown",
   "id": "6b0c0f5f",
   "metadata": {},
   "source": [
    "I happened upon this while looking for tab symbols. I should filter this out at as well."
   ]
  },
  {
   "cell_type": "markdown",
   "id": "28fbc929",
   "metadata": {},
   "source": [
    "Filtering out banned posts: \n",
    "NOTE: This only outputed on the first time ran. Since the post is now gone, it doesn't show up anymore. It was at index 94 and there was only 1 instance."
   ]
  },
  {
   "cell_type": "code",
   "execution_count": null,
   "id": "017eaf7e",
   "metadata": {},
   "outputs": [],
   "source": [
    "[s for s in df['selftext'] if 'Removed by Reddit' in s][0]"
   ]
  },
  {
   "cell_type": "markdown",
   "id": "43167434",
   "metadata": {},
   "source": [
    "There's only one item with 'removed by Reddit\" in the selftext:"
   ]
  },
  {
   "cell_type": "code",
   "execution_count": 46,
   "id": "e19b5d29",
   "metadata": {},
   "outputs": [
    {
     "data": {
      "text/plain": [
       "0"
      ]
     },
     "execution_count": 46,
     "metadata": {},
     "output_type": "execute_result"
    }
   ],
   "source": [
    "# originally output 1\n",
    "len([s for s in df['selftext'] if 'Removed by Reddit' in s])"
   ]
  },
  {
   "cell_type": "markdown",
   "id": "ac7fb285",
   "metadata": {},
   "source": [
    "I'll remove it manually."
   ]
  },
  {
   "cell_type": "code",
   "execution_count": 27,
   "id": "6c1e4ebd",
   "metadata": {},
   "outputs": [
    {
     "data": {
      "text/plain": [
       "(6620, 116)"
      ]
     },
     "execution_count": 27,
     "metadata": {},
     "output_type": "execute_result"
    }
   ],
   "source": [
    "df.shape"
   ]
  },
  {
   "cell_type": "code",
   "execution_count": 28,
   "id": "13e090fd",
   "metadata": {},
   "outputs": [],
   "source": [
    "df.drop(index = 94, inplace = True)\n",
    "df.index = range(len(df))"
   ]
  },
  {
   "cell_type": "code",
   "execution_count": 29,
   "id": "da514ea1",
   "metadata": {},
   "outputs": [
    {
     "data": {
      "text/plain": [
       "(6619, 116)"
      ]
     },
     "execution_count": 29,
     "metadata": {},
     "output_type": "execute_result"
    }
   ],
   "source": [
    "df.shape"
   ]
  },
  {
   "cell_type": "code",
   "execution_count": 30,
   "id": "417ec832",
   "metadata": {},
   "outputs": [
    {
     "data": {
      "text/plain": [
       "0"
      ]
     },
     "execution_count": 30,
     "metadata": {},
     "output_type": "execute_result"
    }
   ],
   "source": [
    "len([s for s in df['selftext'] if 'Removed by Reddit' in s])"
   ]
  },
  {
   "cell_type": "markdown",
   "id": "353129a7",
   "metadata": {},
   "source": [
    "Another issue is that there are some artifacts like `&amp;#x200B;` which are the result of certain characters not being handled correctly."
   ]
  },
  {
   "cell_type": "code",
   "execution_count": 31,
   "id": "5835f7e3",
   "metadata": {},
   "outputs": [
    {
     "data": {
      "text/plain": [
       "'I watched Norma Rae for the first time. It is on Max if you have a subscription. I also found it streaming on [Vimeo](https://vimeo.com/522567048). The film was released in 1979 (right before the devil took office in 1981) and is about a cotton mill worker and single mom who decides that she has no choice, but to fight for a union. It stars Sally Fields and Beau Bridges. It won best actress and best picture at the Academy Awards that year. Norma Rae is based on Crystal Lee Sutton. I do not know much about her. (No surprise that schools do not teach about labor organizers in school). Wikipedia states that the fight between union organizers and the company was one of \"the ugliest episodes in labor history ... from 1963-1980\". Sutton and other labor organizers was repeatedly harassed and fired. \"In 1973 Crystal saw a union poster hanging in one of the seven mills in Roanoke Rapids, North Carolina owned by J.P. Stevens &amp; Company mills where three generations of her family had worked—living in a neighborhood where the Company \"owned every [shotgun house](https://en.wikipedia.org/wiki/Shotgun_house)\"[\\\\[2\\\\]](https://en.wikipedia.org/wiki/Crystal_Lee_Sutton#cite_note-NYT_2009-2) in Sutton\\'s neighborhood. She had been \"thinking about the paltry wages, the bone-tiring work and the stingy benefits that she and her parents had suffered. She wanted something better for her children.\" Please, watch it. I know some people have a hard time watching older movies. I personally have a hard time watching movies made in the 70s, but this movie was not a hard watch. It flows well, Sally Field is great in this role, it is entertaining and inspiring. If you pay attention to Rotten Tomato scores it has 91% rating. IMO should be watched by every worker in this country. Here is the [famous scene](https://www.youtube.com/watch?v=YvqpyDWvDyE) if you need more convincing. '"
      ]
     },
     "execution_count": 31,
     "metadata": {},
     "output_type": "execute_result"
    }
   ],
   "source": [
    "[s for s in df['selftext'] if '&amp;' in s][10]"
   ]
  },
  {
   "cell_type": "markdown",
   "id": "ffd6609b",
   "metadata": {},
   "source": [
    "`&amp;` is meant to be `&`:"
   ]
  },
  {
   "cell_type": "code",
   "execution_count": 32,
   "id": "9d7779e9",
   "metadata": {},
   "outputs": [],
   "source": [
    "amp_index = [s for s in range(len(df['selftext'])) if '&amp;' in df['selftext'][s]]"
   ]
  },
  {
   "cell_type": "code",
   "execution_count": 33,
   "id": "b67ca211",
   "metadata": {},
   "outputs": [
    {
     "data": {
      "text/plain": [
       "0"
      ]
     },
     "execution_count": 33,
     "metadata": {},
     "output_type": "execute_result"
    }
   ],
   "source": [
    "df['selftext'] = [s.replace('&amp;', '&') for s in df['selftext']]\n",
    "len([s for s in df['selftext'] if '&amp;' in s])"
   ]
  },
  {
   "cell_type": "markdown",
   "id": "fabcf7c3",
   "metadata": {},
   "source": [
    "`&amp;#x200B;` characters have now been turned into `&#x200B;` characters."
   ]
  },
  {
   "cell_type": "code",
   "execution_count": 34,
   "id": "11471491",
   "metadata": {},
   "outputs": [
    {
     "data": {
      "text/plain": [
       "\"Hi, I interviewed for a role of a place I was enthusiastic for. I sent in my CV, and got a very quick response for an interview. I learned that the interview was in stages, and it seems like I was a pretty good match for the role. In most of my previous jobs, I had a one or two-stage interview (occasionally a third to negotiate the final details). So I go on the interview, it was online, it took like an hour, I think it was good. After I was asked to meet the team online, so I joined in for that meeting, but it was also like an interview. So two good interviews, one with a manager and one with the team - I thought I was in the clear. Wrong. X. Nope. not yet. I had to have an interview with another director, which was also a long interview. I'm starting to feel like I am personally evaluated, but ok, it's good to meet the whole team. I have worked in a lot of awesome jobs before so I thought this was in the bag. Heck I had three long interviews with everyone. Nope, not yet, I get a request to do an online test. At this point, I am honestly getting annoyed, I had like 6 hours of interviews. In the end I didn't get the job, but honestly at that point I didn't want it after an excruciatingly long and messy interview process. I took on another role that put in a nice offer 4 hours after a single interview. I also got no feedback (despite requested) as to why I wasn't picked (even though they already made my blacklist of never apply to again). This place did say they liked me very much and want to take me on for future roles. Am I crazy to basically never want to talk to them again? Like you can't keep candidate running through the ringer through a 5 stage hiring process. It's not like this was for a ministry, or the CIA or anything. It was pretty basic. Did anyone go through a hiring process like this, and liked where they ended up? &#x200B;\""
      ]
     },
     "execution_count": 34,
     "metadata": {},
     "output_type": "execute_result"
    }
   ],
   "source": [
    "[s for s in df['selftext'] if '&#x200B;' in s][8]"
   ]
  },
  {
   "cell_type": "markdown",
   "id": "688c3a9b",
   "metadata": {},
   "source": [
    "I'll use Regex to remove any string starting with & and ending with ;"
   ]
  },
  {
   "cell_type": "code",
   "execution_count": 35,
   "id": "050d8843",
   "metadata": {},
   "outputs": [],
   "source": [
    "df['selftext'] = [re.sub('\\s*&#x200B;\\s*', '', s) for s in df['selftext']]"
   ]
  },
  {
   "cell_type": "code",
   "execution_count": 36,
   "id": "98d50ac1",
   "metadata": {},
   "outputs": [
    {
     "data": {
      "text/plain": [
       "'Y\\'all are just lazy, get some backbone... &lt;ahem&gt; JUST KIDDING! Seriously, I\\'m at the \"end stage\" of my work career, most of which has been as an IT or infrastructure contractor but I\\'ve also done a LOT of other random work during those occasional periods when the good contracts were scarce and here is what I\\'ve learned from that. 1) Jobs come and go. Sometimes they go because of something YOU did. In that case \"learn and do better\" and then move on. Mostly jobs go away because of something completely out of your control regardless of the blame assigned by whomever is doing the firing. When that is the case, walk away and take some time to recover and then move on. 2) A \"support network\" is an absolute necessity. Maybe it\\'s family, maybe friends, maybe a church, or a mix of all that and more, but no matter what happens or how bad you feel don\\'t cut off your support network because you\\'ll need it and because the most surprising opportunities can arise from the most random interactions. 3) Be specific and GET IT IN WRITING! What the \"tell you\" what they \"promise you\" what they hint at... NONE of it matters at all. The only thing that matters is what you get in writing for later reference. If a job \"promises\" you a raise but won\\'t put any specifics in writing then there IS NO RAISE! If they want you to take on a \"few additional duties\" but won\\'t specify the details in writing then what they really plan to do is dump as much on you as they can possibly get away with. If they play the \"offended\" card you tell them \"I\\'m sorry you feel that way but I would still like this in writing\". If you get fired over asking for things in writing then your job was about to go away anyway. BELIEVE ME on this one! 4) Cover Your Ass! Keep a daily work-log. It doesn\\'t need to be fancy but it does need to list your tasks for that day. When you get \"called in\" over an issue and asked what you\\'ve been doing it really makes them squirm if you haul out a notebook and start giving them day-by-day lists of the tasks you\\'ve been performing. 5) Food, Clothing, Shelter and Medical care. THESE are the reasons you are working. Not for \"exposure\", not for \"experience\", not to \"be part of the team\" or to \"help out\" the boss. REMEMBER WHY YOU ARE WORKING and if a job tries to dismiss that as though you are being somehow petty (Oh you\\'re \\'only here for the paycheck\\') set them straight. Work should be an even transaction and if your work isn\\'t fully satisfying the needs listed at the start then you aren\\'t actually an employee, you are a paid volunteer. 6) Give it a week. Short of actual physical threats or abuse or danger, give any situation you encounter at least 24 hours, preferably a week, to shake out. MANY things in professional environments are ultimately misunderstandings or simple incompetence and it is hard to make good decisions in the heat of the moment. However, any actual threats should be resolved by physically leaving, immediately. 7) Discuss your pay with your co-workers (off site, outside company time). This is a protected right and all workers need to make sure that employers are treating everyone fairly. Document the conversations in the work-log mentioned in #4.'"
      ]
     },
     "execution_count": 36,
     "metadata": {},
     "output_type": "execute_result"
    }
   ],
   "source": [
    "[s for s in df['selftext'] if ';' in s][8]"
   ]
  },
  {
   "cell_type": "code",
   "execution_count": 37,
   "id": "e00bdaf9",
   "metadata": {},
   "outputs": [
    {
     "data": {
      "text/plain": [
       "'My company leadership said they wanted to buy me lunch with some of the staff to \"Thank me for my years of work.\" I\\'m being outsourced in two weeks and didn\\'t get offered other positions or anything. In a nutshell, my employment is being terminated. I said thanks, but I\\'m not interested in getting lunch to celebrate being fired.'"
      ]
     },
     "execution_count": 37,
     "metadata": {},
     "output_type": "execute_result"
    }
   ],
   "source": [
    "[re.sub(r\"\\'\", \"'\", s) for s in df['selftext']][3]"
   ]
  },
  {
   "cell_type": "code",
   "execution_count": 38,
   "id": "e335f6c5",
   "metadata": {},
   "outputs": [
    {
     "data": {
      "text/plain": [
       "'The video: [https://www.youtube.com/watch?v=YVTxute2lhA](https://www.youtube.com/watch?v=YVTxute2lhA) I wrote out a quite lengthy response to all of their points. 0:00 \"The US economy still has a massive massive labor shortage.\" • No it doesn\\'t. It has a wage shortage. Companies have plenty of money to pay people more, but they refuse. No one wants to put up with horrible jobs that pay nothing when rent is sky high.0:09 \"obviously the pandemic exacerbated the problem.\" • The cost of living and company profits going up year after year for decades, but average wages hardly going up at all is the main problem. Wrong again.0:52 \"600 thousand nurses plan to leave the field by 2027.\" • 7,000 nurses walked out in New York because their company failed to reach a deal. Hospitals charge people $100,000 for an aspirin and a band-aid, yet refuse to pay the people who run the show. It\\'s not a labor shortage - it\\'s a wage shortage.1:04 \"4% of all public school teaching positions are empty.\" • It\\'s widely known across the entire US that teachers are some of the lowest paid professionals given what they do. The United States has one of the highest GDP in the entire world. This government takes in more money than any other nation for taxes, yet only a minimal amount of it goes to paying teachers - a public service run by the government. It\\'s not a teacher shortage problem - it\\'s a wage problem, not to mention the absurd level of stress they face from having to put up with unruly students who are immune to any kind of punishment due to potential lawsuits from parents.1:09 \"Even the construction industry will need another 540k workers on top of the normal base of hiring to meet the demand for labor.\" • Carpenters, who are responsible for building houses, are paid about half of what electricians or plumbers are paid, yet are responsible for an array of different things. Construction also has one of the highest death rates of any profession, topping police or military. They aren\\'t paid enough for what they have to do and the risk involved. It\\'s not a worker shortage - it\\'s a wage shortage. Wrong again.5:13 \"The auto industry has felt this sharply, especially after the massive shift to electric vehicles. \\'The industry is going to be short of technicians for several years into the future and especially I think as the vehicles get more complicated and harder to fix, and that takes more technicians with higher skill levels to do that.\" • Wrong again. Electric vehicles require fewer parts than gas-run vehicles, making it easier to gain expertise on the more complicated parts. Open the hood of your gas vehicle. It is a myriad of different mechanical parts. A simple google search for \"under the hood of a Tesla\" shows a rather simple engine. That took all of 2 seconds to find.9:40 \"Maryland\\'s Department of Education recently decided to invest $12m to expand the apprenticeship opportunities for high school students.\" • Our tax dollars should not have to be used to bail out companies in this way. Companies should be footing the bill by offering apprenticeship positions within the company itself. This entire video is about apprenticeships, yet it seems to push a non-traditional method of doing it. Apprenticeships being right in the very company you planned to work for is how it used to work. This will serve as yet another example of how the government bails out companies at the expense of the tax payer.So although I do agree that apprenticeships are the way to go, it really grinds my gears every time the media conveniently avoids blaming companies. It\\'s a \"leopardsatmyface\" situation where they chose to send jobs overseas and pay us less here, then act surprised when they can\\'t find workers. Get fucked.'"
      ]
     },
     "execution_count": 38,
     "metadata": {},
     "output_type": "execute_result"
    }
   ],
   "source": [
    "[s for s in df['selftext'] if \"can\\'t\" in s][8]"
   ]
  },
  {
   "cell_type": "code",
   "execution_count": 39,
   "id": "c8c29e28",
   "metadata": {},
   "outputs": [],
   "source": [
    "def replace_escaped_single_quotes(text):\n",
    "    return re.sub(r\"\\\\'\", \"'\", text)\n",
    "\n",
    "df['selftext'] = df['selftext'].apply(replace_escaped_single_quotes)"
   ]
  },
  {
   "cell_type": "code",
   "execution_count": 40,
   "id": "9a1e956c",
   "metadata": {},
   "outputs": [
    {
     "data": {
      "text/plain": [
       "'Y\\'all are just lazy, get some backbone... &lt;ahem&gt; JUST KIDDING! Seriously, I\\'m at the \"end stage\" of my work career, most of which has been as an IT or infrastructure contractor but I\\'ve also done a LOT of other random work during those occasional periods when the good contracts were scarce and here is what I\\'ve learned from that. 1) Jobs come and go. Sometimes they go because of something YOU did. In that case \"learn and do better\" and then move on. Mostly jobs go away because of something completely out of your control regardless of the blame assigned by whomever is doing the firing. When that is the case, walk away and take some time to recover and then move on. 2) A \"support network\" is an absolute necessity. Maybe it\\'s family, maybe friends, maybe a church, or a mix of all that and more, but no matter what happens or how bad you feel don\\'t cut off your support network because you\\'ll need it and because the most surprising opportunities can arise from the most random interactions. 3) Be specific and GET IT IN WRITING! What the \"tell you\" what they \"promise you\" what they hint at... NONE of it matters at all. The only thing that matters is what you get in writing for later reference. If a job \"promises\" you a raise but won\\'t put any specifics in writing then there IS NO RAISE! If they want you to take on a \"few additional duties\" but won\\'t specify the details in writing then what they really plan to do is dump as much on you as they can possibly get away with. If they play the \"offended\" card you tell them \"I\\'m sorry you feel that way but I would still like this in writing\". If you get fired over asking for things in writing then your job was about to go away anyway. BELIEVE ME on this one! 4) Cover Your Ass! Keep a daily work-log. It doesn\\'t need to be fancy but it does need to list your tasks for that day. When you get \"called in\" over an issue and asked what you\\'ve been doing it really makes them squirm if you haul out a notebook and start giving them day-by-day lists of the tasks you\\'ve been performing. 5) Food, Clothing, Shelter and Medical care. THESE are the reasons you are working. Not for \"exposure\", not for \"experience\", not to \"be part of the team\" or to \"help out\" the boss. REMEMBER WHY YOU ARE WORKING and if a job tries to dismiss that as though you are being somehow petty (Oh you\\'re \\'only here for the paycheck\\') set them straight. Work should be an even transaction and if your work isn\\'t fully satisfying the needs listed at the start then you aren\\'t actually an employee, you are a paid volunteer. 6) Give it a week. Short of actual physical threats or abuse or danger, give any situation you encounter at least 24 hours, preferably a week, to shake out. MANY things in professional environments are ultimately misunderstandings or simple incompetence and it is hard to make good decisions in the heat of the moment. However, any actual threats should be resolved by physically leaving, immediately. 7) Discuss your pay with your co-workers (off site, outside company time). This is a protected right and all workers need to make sure that employers are treating everyone fairly. Document the conversations in the work-log mentioned in #4.'"
      ]
     },
     "execution_count": 40,
     "metadata": {},
     "output_type": "execute_result"
    }
   ],
   "source": [
    "[s for s in df['selftext'] if ';' in s][8]"
   ]
  },
  {
   "cell_type": "code",
   "execution_count": 41,
   "id": "84f49fda",
   "metadata": {},
   "outputs": [
    {
     "data": {
      "text/plain": [
       "'My company leadership said they wanted to buy me lunch with some of the staff to \"Thank me for my years of work.\" I\\'m being outsourced in two weeks and didn\\'t get offered other positions or anything. In a nutshell, my employment is being terminated. I said thanks, but I\\'m not interested in getting lunch to celebrate being fired.'"
      ]
     },
     "execution_count": 41,
     "metadata": {},
     "output_type": "execute_result"
    }
   ],
   "source": [
    "def replace_escaped_characters(text):\n",
    "    return re.sub(r\"\\\\(['])\", r\"\\1\", text)\n",
    "\n",
    "df['selftext'] = df['selftext'].apply(replace_escaped_characters)\n",
    "df['selftext'][3]"
   ]
  },
  {
   "cell_type": "code",
   "execution_count": 42,
   "id": "3ac640bd",
   "metadata": {},
   "outputs": [
    {
     "data": {
      "text/plain": [
       "'My company leadership said they wanted to buy me lunch with some of the staff to \"Thank me for my years of work.\" I\\'m being outsourced in two weeks and didn\\'t get offered other positions or anything. In a nutshell, my employment is being terminated. I said thanks, but I\\'m not interested in getting lunch to celebrate being fired.'"
      ]
     },
     "execution_count": 42,
     "metadata": {},
     "output_type": "execute_result"
    }
   ],
   "source": [
    "test = df['selftext'][3]\n",
    "test.replace(\"\\'\", \"'\")"
   ]
  },
  {
   "cell_type": "markdown",
   "id": "229b446f",
   "metadata": {},
   "source": [
    "This isn't working as expected. Using raw strings or double backslashes doesn't work either, although interestingly, a double quotation mark does work. Although this isn't what I want."
   ]
  },
  {
   "cell_type": "code",
   "execution_count": 43,
   "id": "867413b4",
   "metadata": {},
   "outputs": [
    {
     "data": {
      "text/plain": [
       "'My company leadership said they wanted to buy me lunch with some of the staff to \"Thank me for my years of work.\" I\"m being outsourced in two weeks and didn\"t get offered other positions or anything. In a nutshell, my employment is being terminated. I said thanks, but I\"m not interested in getting lunch to celebrate being fired.'"
      ]
     },
     "execution_count": 43,
     "metadata": {},
     "output_type": "execute_result"
    }
   ],
   "source": [
    "[s.replace(\"\\'\", '\"') for s in df['selftext']][3]"
   ]
  },
  {
   "cell_type": "code",
   "execution_count": 44,
   "id": "ee0bfa93",
   "metadata": {},
   "outputs": [],
   "source": [
    "df.to_csv('../datasets/reddit_dataframe.csv', index_label = False)"
   ]
  }
 ],
 "metadata": {
  "kernelspec": {
   "display_name": "Python 3 (ipykernel)",
   "language": "python",
   "name": "python3"
  },
  "language_info": {
   "codemirror_mode": {
    "name": "ipython",
    "version": 3
   },
   "file_extension": ".py",
   "mimetype": "text/x-python",
   "name": "python",
   "nbconvert_exporter": "python",
   "pygments_lexer": "ipython3",
   "version": "3.8.0"
  }
 },
 "nbformat": 4,
 "nbformat_minor": 5
}
